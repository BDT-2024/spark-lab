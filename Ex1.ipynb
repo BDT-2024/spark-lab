{
 "cells": [
  {
   "cell_type": "code",
   "execution_count": 1,
   "id": "8ec57067-3088-4c12-bbba-c94675b63dd0",
   "metadata": {},
   "outputs": [],
   "source": [
    "from datetime import datetime, date\n",
    "import pandas as pd\n"
   ]
  },
  {
   "cell_type": "code",
   "execution_count": 2,
   "id": "41f46d32-76cc-4c43-b3af-a2c05aa1ebdf",
   "metadata": {},
   "outputs": [],
   "source": [
    "import os"
   ]
  },
  {
   "cell_type": "code",
   "execution_count": 3,
   "id": "f32e9ada-32bb-4f50-acfc-eb03660f6741",
   "metadata": {},
   "outputs": [],
   "source": [
    "os.environ[\"PYARROW_IGNORE_TIMEZONE\"] = \"1\""
   ]
  },
  {
   "cell_type": "code",
   "execution_count": 4,
   "id": "300565b9-2cb6-4d2d-b5b3-bbb9dbdec42d",
   "metadata": {},
   "outputs": [
    {
     "name": "stderr",
     "output_type": "stream",
     "text": [
      "24/05/23 10:09:27 WARN Utils: Your hostname, MacBook-Pro-di-Stefano-2.local resolves to a loopback address: 127.0.0.1; using 10.192.205.243 instead (on interface en0)\n",
      "24/05/23 10:09:27 WARN Utils: Set SPARK_LOCAL_IP if you need to bind to another address\n",
      "Setting default log level to \"WARN\".\n",
      "To adjust logging level use sc.setLogLevel(newLevel). For SparkR, use setLogLevel(newLevel).\n",
      "24/05/23 10:09:28 WARN NativeCodeLoader: Unable to load native-hadoop library for your platform... using builtin-java classes where applicable\n"
     ]
    }
   ],
   "source": [
    "from pyspark.sql import SparkSession\n",
    "\n",
    "spark = SparkSession.builder.getOrCreate()"
   ]
  },
  {
   "cell_type": "markdown",
   "id": "d6eabdaa-7ae4-48ee-8933-d8188792d3f2",
   "metadata": {},
   "source": [
    "spark dashboard is available at: [http://localhost:4040/](http://localhost:4040/)"
   ]
  },
  {
   "cell_type": "code",
   "execution_count": 5,
   "id": "435a1929-2ada-4461-b3dc-6ba095899ccd",
   "metadata": {},
   "outputs": [],
   "source": [
    "spark.conf.set('spark.sql.repl.eagerEval.enabled', True)\n"
   ]
  },
  {
   "cell_type": "code",
   "execution_count": 6,
   "id": "244421de-02dc-40a0-80cb-1abbd7e9f1b2",
   "metadata": {},
   "outputs": [],
   "source": [
    "from pyspark.sql.functions import *"
   ]
  },
  {
   "cell_type": "code",
   "execution_count": 7,
   "id": "ff966bed-f173-4b46-a86d-6175dfd91ead",
   "metadata": {},
   "outputs": [
    {
     "name": "stderr",
     "output_type": "stream",
     "text": [
      "24/05/23 10:09:41 WARN GarbageCollectionMetrics: To enable non-built-in garbage collector(s) List(G1 Concurrent GC), users should configure it(them) to spark.eventLog.gcMetrics.youngGenerationGarbageCollectors or spark.eventLog.gcMetrics.oldGenerationGarbageCollectors\n"
     ]
    }
   ],
   "source": [
    "import pyspark.pandas as ps"
   ]
  },
  {
   "cell_type": "code",
   "execution_count": null,
   "id": "6b52e517-1677-4d43-838c-139fe2562425",
   "metadata": {},
   "outputs": [],
   "source": []
  },
  {
   "cell_type": "markdown",
   "id": "2e5c8d2b-b59f-4c7a-82fa-fa3b67491e1c",
   "metadata": {},
   "source": [
    "# Ex1"
   ]
  },
  {
   "cell_type": "code",
   "execution_count": 8,
   "id": "d26dbbe5-2dbe-403a-9d17-543fc5121e32",
   "metadata": {},
   "outputs": [
    {
     "name": "stdout",
     "output_type": "stream",
     "text": [
      "root\n",
      " |-- Pokemon: string (nullable = true)\n",
      " |-- Type: string (nullable = true)\n",
      " |-- Species: string (nullable = true)\n",
      " |-- Height: string (nullable = true)\n",
      " |-- Weight: string (nullable = true)\n",
      " |-- Abilities: string (nullable = true)\n",
      " |-- EV Yield: string (nullable = true)\n",
      " |-- Catch Rate: string (nullable = true)\n",
      " |-- Base Friendship: string (nullable = true)\n",
      " |-- Base Exp: string (nullable = true)\n",
      " |-- Growth Rate: string (nullable = true)\n",
      " |-- Egg Groups: string (nullable = true)\n",
      " |-- Gender: string (nullable = true)\n",
      " |-- Egg Cycles: string (nullable = true)\n",
      " |-- HP Base: string (nullable = true)\n",
      " |-- HP Min: string (nullable = true)\n",
      " |-- HP Max: string (nullable = true)\n",
      " |-- Attack Base: string (nullable = true)\n",
      " |-- Attack Min: string (nullable = true)\n",
      " |-- Attack Max: string (nullable = true)\n",
      " |-- Defense Base: string (nullable = true)\n",
      " |-- Defense Min: string (nullable = true)\n",
      " |-- Defense Max: string (nullable = true)\n",
      " |-- Special Attack Base: string (nullable = true)\n",
      " |-- Special Attack Min: string (nullable = true)\n",
      " |-- Special Attack Max: string (nullable = true)\n",
      " |-- Special Defense Base: string (nullable = true)\n",
      " |-- Special Defense Min: string (nullable = true)\n",
      " |-- Special Defense Max: string (nullable = true)\n",
      " |-- Speed Base: string (nullable = true)\n",
      " |-- Speed Min: string (nullable = true)\n",
      " |-- Speed Max: string (nullable = true)\n",
      "\n"
     ]
    }
   ],
   "source": [
    "pokemon_df = spark.read.csv('Files/pokemonDB_dataset.csv', header=True)\n",
    "pokemon_df.printSchema()"
   ]
  },
  {
   "cell_type": "code",
   "execution_count": null,
   "id": "3dbac9cb-e6ec-4336-9324-1a7d74774404",
   "metadata": {},
   "outputs": [],
   "source": []
  },
  {
   "cell_type": "code",
   "execution_count": 9,
   "id": "e9d6b198-a692-4322-958d-83f4a635040a",
   "metadata": {},
   "outputs": [
    {
     "name": "stdout",
     "output_type": "stream",
     "text": [
      "root\n",
      " |-- first_name: string (nullable = true)\n",
      " |-- last_name: string (nullable = true)\n",
      " |-- age: long (nullable = true)\n",
      " |-- pockemon: string (nullable = true)\n",
      " |-- __null_dask_index__: long (nullable = true)\n",
      "\n"
     ]
    }
   ],
   "source": [
    "trainers = spark.read.parquet('Files/trainers_with_pockemon.parquet')\n",
    "trainers.printSchema()"
   ]
  },
  {
   "cell_type": "code",
   "execution_count": 10,
   "id": "1ae65b9b-dfb3-4a6d-a41e-7195e0ae682e",
   "metadata": {},
   "outputs": [
    {
     "name": "stderr",
     "output_type": "stream",
     "text": [
      "24/05/23 10:10:25 WARN SparkStringUtils: Truncated the string representation of a plan since it was too large. This behavior can be adjusted by setting 'spark.sql.debug.maxToStringFields'.\n"
     ]
    }
   ],
   "source": [
    "trainers.createOrReplaceTempView(\"trainers\")\n",
    "pokemon_df.createOrReplaceTempView(\"pokemon_df\")"
   ]
  },
  {
   "cell_type": "code",
   "execution_count": 14,
   "id": "668b26d5-246e-4958-888a-75e139ff8ab8",
   "metadata": {},
   "outputs": [],
   "source": [
    "df = spark.sql('SELECT first_name, last_name, AVG(`Defense Max`) as avg_defense FROM pokemon_df INNER JOIN trainers ON pokemon_df.Pokemon = trainers.pockemon GROUP BY first_name, last_name;') "
   ]
  },
  {
   "cell_type": "code",
   "execution_count": 16,
   "id": "acda1d65-79ac-4a9c-9e34-dda0da7a5ce5",
   "metadata": {},
   "outputs": [
    {
     "data": {
      "text/html": [
       "<table border='1'>\n",
       "<tr><th>first_name</th><th>last_name</th><th>avg_defense</th></tr>\n",
       "<tr><td>Julius</td><td>Foley</td><td>658.0</td></tr>\n",
       "<tr><td>Murray</td><td>Levy</td><td>658.0</td></tr>\n",
       "<tr><td>Dell</td><td>Mckee</td><td>658.0</td></tr>\n",
       "<tr><td>Gilbert</td><td>Lamb</td><td>658.0</td></tr>\n",
       "<tr><td>Nicolas</td><td>Ballard</td><td>658.0</td></tr>\n",
       "<tr><td>Marg</td><td>Thomas</td><td>658.0</td></tr>\n",
       "<tr><td>Dusty</td><td>Carroll</td><td>658.0</td></tr>\n",
       "<tr><td>Noah</td><td>Clayton</td><td>658.0</td></tr>\n",
       "<tr><td>Paulita</td><td>Mcneil</td><td>658.0</td></tr>\n",
       "<tr><td>Randal</td><td>Guzman</td><td>658.0</td></tr>\n",
       "<tr><td>Argelia</td><td>Todd</td><td>658.0</td></tr>\n",
       "<tr><td>Steven</td><td>Snider</td><td>658.0</td></tr>\n",
       "<tr><td>Willis</td><td>Walter</td><td>658.0</td></tr>\n",
       "<tr><td>Landon</td><td>Vega</td><td>658.0</td></tr>\n",
       "<tr><td>Neal</td><td>Elliott</td><td>658.0</td></tr>\n",
       "<tr><td>Robbyn</td><td>Decker</td><td>658.0</td></tr>\n",
       "<tr><td>Elliott</td><td>Farmer</td><td>658.0</td></tr>\n",
       "<tr><td>Malika</td><td>Ellison</td><td>658.0</td></tr>\n",
       "<tr><td>Patrina</td><td>Browning</td><td>658.0</td></tr>\n",
       "<tr><td>Jasper</td><td>Albert</td><td>658.0</td></tr>\n",
       "</table>\n",
       "only showing top 20 rows\n"
      ],
      "text/plain": [
       "+----------+----------+-----------+\n",
       "|first_name| last_name|avg_defense|\n",
       "+----------+----------+-----------+\n",
       "|   Gerardo|  Guerrero|      658.0|\n",
       "|      Marg|    Thomas|      658.0|\n",
       "|      Dell|     Mckee|      658.0|\n",
       "|    Willis|    Walter|      658.0|\n",
       "|   Gilbert|      Lamb|      658.0|\n",
       "|      Neal|   Elliott|      658.0|\n",
       "|   Nicolas|   Ballard|      658.0|\n",
       "|   Elliott|    Farmer|      658.0|\n",
       "|    Julius|     Foley|      658.0|\n",
       "|   Patrina|  Browning|      658.0|\n",
       "|     Dusty|   Carroll|      658.0|\n",
       "|      Wade|    Benton|      658.0|\n",
       "|      Noah|   Clayton|      658.0|\n",
       "|   Paulita|    Mcneil|      658.0|\n",
       "|    Murray|      Levy|      658.0|\n",
       "|   Argelia|      Todd|      658.0|\n",
       "|    Steven|    Snider|      658.0|\n",
       "|   Hershel|Livingston|      658.0|\n",
       "|    Malika|   Ellison|      658.0|\n",
       "|     Tanna|    Barlow|      658.0|\n",
       "+----------+----------+-----------+\n",
       "only showing top 20 rows"
      ]
     },
     "execution_count": 16,
     "metadata": {},
     "output_type": "execute_result"
    }
   ],
   "source": [
    "df.sort(desc(\"avg_defense\"))"
   ]
  },
  {
   "cell_type": "code",
   "execution_count": null,
   "id": "79dd8bc4-953f-4496-819b-a21f6770f6db",
   "metadata": {},
   "outputs": [],
   "source": []
  },
  {
   "cell_type": "code",
   "execution_count": null,
   "id": "54c7da70-9c7a-498e-b3c8-3d38e54d6a16",
   "metadata": {},
   "outputs": [],
   "source": []
  }
 ],
 "metadata": {
  "kernelspec": {
   "display_name": "Python 3 (ipykernel)",
   "language": "python",
   "name": "python3"
  },
  "language_info": {
   "codemirror_mode": {
    "name": "ipython",
    "version": 3
   },
   "file_extension": ".py",
   "mimetype": "text/x-python",
   "name": "python",
   "nbconvert_exporter": "python",
   "pygments_lexer": "ipython3",
   "version": "3.11.7"
  }
 },
 "nbformat": 4,
 "nbformat_minor": 5
}
